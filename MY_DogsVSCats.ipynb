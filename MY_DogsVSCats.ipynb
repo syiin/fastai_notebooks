{
 "cells": [
  {
   "cell_type": "code",
   "execution_count": 14,
   "metadata": {},
   "outputs": [],
   "source": [
    "from fastai.transforms import *\n",
    "from fastai.conv_learner import *\n",
    "from fastai.model import *\n",
    "from fastai.dataset import *\n",
    "from fastai.sgdr import *\n",
    "from fastai.plots import *"
   ]
  },
  {
   "cell_type": "code",
   "execution_count": 15,
   "metadata": {},
   "outputs": [
    {
     "data": {
      "text/plain": [
       "['test', 'sample', 'valid', 'models', 'train', 'tmp', 'test1']"
      ]
     },
     "execution_count": 15,
     "metadata": {},
     "output_type": "execute_result"
    }
   ],
   "source": [
    "import os\n",
    "os.listdir('data/dogscats')"
   ]
  },
  {
   "cell_type": "code",
   "execution_count": 16,
   "metadata": {},
   "outputs": [],
   "source": [
    "PATH = 'data/dogscats'\n",
    "size = 299\n",
    "arch = resnet34\n",
    "bs=64"
   ]
  },
  {
   "cell_type": "code",
   "execution_count": 17,
   "metadata": {},
   "outputs": [],
   "source": [
    "tfms = tfms_from_model(arch, size, aug_tfms=transforms_side_on, max_zoom = 1.1)\n",
    "data = ImageClassifierData.from_paths(PATH, bs, tfms=tfms, num_workers = 4, test_name='test1')\n",
    "model = ConvLearner.pretrained(arch, data, precompute=True, ps=0.5)"
   ]
  },
  {
   "cell_type": "code",
   "execution_count": 18,
   "metadata": {},
   "outputs": [
    {
     "data": {
      "application/vnd.jupyter.widget-view+json": {
       "model_id": "65fed403c16a410caab97b942dde21c2",
       "version_major": 2,
       "version_minor": 0
      },
      "text/plain": [
       "HBox(children=(IntProgress(value=0, description='Epoch', max=1), HTML(value='')))"
      ]
     },
     "metadata": {},
     "output_type": "display_data"
    },
    {
     "name": "stdout",
     "output_type": "stream",
     "text": [
      "                                                             \r"
     ]
    },
    {
     "data": {
      "image/png": "[encoded data removed]",
      "text/plain": [
       "<Figure size 432x288 with 1 Axes>"
      ]
     },
     "metadata": {},
     "output_type": "display_data"
    }
   ],
   "source": [
    "model.lr_find()\n",
    "model.sched.plot()"
   ]
  },
  {
   "cell_type": "code",
   "execution_count": 19,
   "metadata": {},
   "outputs": [
    {
     "data": {
      "application/vnd.jupyter.widget-view+json": {
       "model_id": "32bd76952fa7475f9e064a8da4cdc01a",
       "version_major": 2,
       "version_minor": 0
      },
      "text/plain": [
       "HBox(children=(IntProgress(value=0, description='Epoch', max=2), HTML(value='')))"
      ]
     },
     "metadata": {},
     "output_type": "display_data"
    },
    {
     "name": "stdout",
     "output_type": "stream",
     "text": [
      "epoch      trn_loss   val_loss   accuracy                     \n",
      "    0      0.062221   0.027987   0.9895    \n",
      "    1      0.048119   0.026094   0.989                        \n"
     ]
    },
    {
     "data": {
      "text/plain": [
       "[array([0.02609]), 0.989]"
      ]
     },
     "execution_count": 19,
     "metadata": {},
     "output_type": "execute_result"
    }
   ],
   "source": [
    "lr = 1e-2\n",
    "model.fit(lr, 2, cycle_len=1)"
   ]
  },
  {
   "cell_type": "code",
   "execution_count": 20,
   "metadata": {},
   "outputs": [],
   "source": [
    "model.precompute = False"
   ]
  },
  {
   "cell_type": "code",
   "execution_count": 21,
   "metadata": {},
   "outputs": [
    {
     "data": {
      "application/vnd.jupyter.widget-view+json": {
       "model_id": "16a59244056544b19f135db68f68d9d8",
       "version_major": 2,
       "version_minor": 0
      },
      "text/plain": [
       "HBox(children=(IntProgress(value=0, description='Epoch', max=3), HTML(value='')))"
      ]
     },
     "metadata": {},
     "output_type": "display_data"
    },
    {
     "name": "stdout",
     "output_type": "stream",
     "text": [
      "epoch      trn_loss   val_loss   accuracy                     \n",
      "    0      0.048272   0.020628   0.9925    \n",
      "    1      0.04083    0.019128   0.992                        \n",
      "    2      0.033045   0.017992   0.993                        \n"
     ]
    },
    {
     "data": {
      "text/plain": [
       "[array([0.01799]), 0.993]"
      ]
     },
     "execution_count": 21,
     "metadata": {},
     "output_type": "execute_result"
    }
   ],
   "source": [
    "model.unfreeze()\n",
    "lr = [1e-4, 1e-3, 1e-2]\n",
    "model.fit(lr, 3, cycle_len=1)"
   ]
  },
  {
   "cell_type": "code",
   "execution_count": 22,
   "metadata": {},
   "outputs": [],
   "source": [
    "model.save('224_all')"
   ]
  },
  {
   "cell_type": "code",
   "execution_count": 23,
   "metadata": {},
   "outputs": [],
   "source": [
    "model.precompute = False\n",
    "model.load('224_all')"
   ]
  },
  {
   "cell_type": "code",
   "execution_count": 24,
   "metadata": {},
   "outputs": [
    {
     "name": "stdout",
     "output_type": "stream",
     "text": [
      "                                             \r"
     ]
    },
    {
     "data": {
      "text/plain": [
       "0.995"
      ]
     },
     "execution_count": 24,
     "metadata": {},
     "output_type": "execute_result"
    }
   ],
   "source": [
    "log_preds,y = model.TTA()\n",
    "probs = np.mean(np.exp(log_preds),0)\n",
    "accuracy_np(probs, y)"
   ]
  },
  {
   "cell_type": "markdown",
   "metadata": {},
   "source": [
    "# Confusion Matrix"
   ]
  },
  {
   "cell_type": "code",
   "execution_count": 70,
   "metadata": {},
   "outputs": [
    {
     "name": "stdout",
     "output_type": "stream",
     "text": [
      "                                             \r"
     ]
    },
    {
     "data": {
      "text/plain": [
       "0.4988"
      ]
     },
     "execution_count": 70,
     "metadata": {},
     "output_type": "execute_result"
    }
   ],
   "source": [
    "log_preds,y = model.TTA(is_test=True)\n",
    "probs = np.mean(np.exp(log_preds),0)\n",
    "accuracy_np(probs, y)"
   ]
  },
  {
   "cell_type": "code",
   "execution_count": 71,
   "metadata": {},
   "outputs": [],
   "source": [
    "predictions = np.argmax(probs, axis=1)"
   ]
  },
  {
   "cell_type": "code",
   "execution_count": 101,
   "metadata": {},
   "outputs": [],
   "source": [
    "submission = pd.DataFrame({'id':os.listdir(f'{PATH}/test1'), 'label':probs})\n",
    "submission['id'] = submission['id'].map(lambda x: x.split('.')[0])\n",
    "submission['id'] = submission['id'].astype(int)\n",
    "submission = submission.sort_values('id')\n",
    "submission.to_csv(f'{PATH}/output.csv', index=False)"
   ]
  },
  {
   "cell_type": "code",
   "execution_count": 73,
   "metadata": {},
   "outputs": [
    {
     "name": "stdout",
     "output_type": "stream",
     "text": [
      "[[6235 6265]\n",
      " [   0    0]]\n"
     ]
    },
    {
     "data": {
      "image/png": "[encoded data removed]",
      "text/plain": [
       "<Figure size 432x288 with 2 Axes>"
      ]
     },
     "metadata": {},
     "output_type": "display_data"
    }
   ],
   "source": [
    "from sklearn.metrics import confusion_matrix\n",
    "cm = confusion_matrix(y, predictions)\n",
    "plot_confusion_matrix(cm, data.classes)"
   ]
  },
  {
   "cell_type": "code",
   "execution_count": 45,
   "metadata": {},
   "outputs": [],
   "source": [
    "submit_df = pd.DataFrame(predictions)"
   ]
  },
  {
   "cell_type": "code",
   "execution_count": 50,
   "metadata": {},
   "outputs": [],
   "source": [
    "?np.mean"
   ]
  },
  {
   "cell_type": "code",
   "execution_count": 64,
   "metadata": {},
   "outputs": [
    {
     "data": {
      "text/plain": [
       "array([[[0.00108, 0.99892],\n",
       "        [0.99986, 0.00014],\n",
       "        [0.01096, 0.98904],\n",
       "        ...,\n",
       "        [0.0002 , 0.9998 ],\n",
       "        [1.     , 0.     ],\n",
       "        [1.     , 0.     ]],\n",
       "\n",
       "       [[0.00093, 0.99907],\n",
       "        [0.9998 , 0.0002 ],\n",
       "        [0.02208, 0.97792],\n",
       "        ...,\n",
       "        [0.00003, 0.99997],\n",
       "        [1.     , 0.     ],\n",
       "        [1.     , 0.     ]],\n",
       "\n",
       "       [[0.00049, 0.99951],\n",
       "        [1.     , 0.     ],\n",
       "        [0.00448, 0.99552],\n",
       "        ...,\n",
       "        [0.00019, 0.99981],\n",
       "        [1.     , 0.     ],\n",
       "        [1.     , 0.     ]],\n",
       "\n",
       "       [[0.00136, 0.99864],\n",
       "        [0.99986, 0.00014],\n",
       "        [0.00354, 0.99646],\n",
       "        ...,\n",
       "        [0.00037, 0.99963],\n",
       "        [1.     , 0.     ],\n",
       "        [1.     , 0.     ]],\n",
       "\n",
       "       [[0.00024, 0.99976],\n",
       "        [0.99966, 0.00034],\n",
       "        [0.0156 , 0.9844 ],\n",
       "        ...,\n",
       "        [0.00023, 0.99977],\n",
       "        [1.     , 0.     ],\n",
       "        [1.     , 0.     ]]], dtype=float32)"
      ]
     },
     "execution_count": 64,
     "metadata": {},
     "output_type": "execute_result"
    }
   ],
   "source": [
    "(np.exp(log_preds))"
   ]
  },
  {
   "cell_type": "code",
   "execution_count": 30,
   "metadata": {},
   "outputs": [],
   "source": [
    "# predictions = np.argmax(probs, axis=1)\n",
    "# submit_df = pd.DataFrame(np.exp(predictions))\n",
    "# submit_df.info()"
   ]
  },
  {
   "cell_type": "code",
   "execution_count": 31,
   "metadata": {},
   "outputs": [],
   "source": [
    "# submit_df.columns = data.classes\n",
    "# submit_df.insert(0, 'id', [o[5:-4] for o in data.test_ds.fnames])\n",
    "# ds.head()"
   ]
  },
  {
   "cell_type": "code",
   "execution_count": 32,
   "metadata": {},
   "outputs": [],
   "source": [
    "# SUBMIT_PATH = f'{PATH}/submit/'\n",
    "# os.makedirs(SUBMIT_PATH, exist_ok=True)\n",
    "# ds.to_csv(f'{SUBMIT_PATH}subm.gz', compression='gzip', index=False)\n",
    "# FileLink(f'{SUBMIT_PATH}subm.gz')"
   ]
  },
  {
   "cell_type": "markdown",
   "metadata": {},
   "source": [
    "## Submission"
   ]
  },
  {
   "cell_type": "code",
   "execution_count": 33,
   "metadata": {},
   "outputs": [],
   "source": [
    "temp = model.predict(is_test=True)\n",
    "# pred_test = np.argmax(temp, axis=1)\n",
    "# probs = np.exp(temp[:,1])"
   ]
  },
  {
   "cell_type": "code",
   "execution_count": 34,
   "metadata": {},
   "outputs": [],
   "source": [
    "# submit_df.columns = data.classes\n",
    "# submit_df.insert(0, 'id', [o[5:-4] for o in data.test_ds.fnames])\n",
    "# ds.head()"
   ]
  },
  {
   "cell_type": "code",
   "execution_count": 35,
   "metadata": {},
   "outputs": [],
   "source": [
    "# SUBMIT_PATH = f'{PATH}/submit/'\n",
    "# os.makedirs(SUBMIT_PATH, exist_ok=True)\n",
    "# ds.to_csv(f'{SUBMIT_PATH}subm.gz', compression='gzip', index=False)\n",
    "# FileLink(f'{SUBMIT_PATH}subm.gz')"
   ]
  },
  {
   "cell_type": "code",
   "execution_count": 36,
   "metadata": {},
   "outputs": [],
   "source": [
    "# os.makedirs(f'{PATH}/test', exist_ok=True)\n",
    "# submission = pd.DataFrame({'id':os.listdir(f'{PATH}/test'), 'label':probs})\n",
    "# submission['id'] = submission['id'].map(lambda x: x.split('.')[0])\n",
    "# submission['id'] = submission['id'].astype(int)\n",
    "# submission = submission.sort_values('id')\n",
    "# submission.to_csv('../output.csv', index=False)"
   ]
  }
 ],
 "metadata": {
  "kernelspec": {
   "display_name": "Python [conda env:fastai]",
   "language": "python",
   "name": "conda-env-fastai-py"
  },
  "language_info": {
   "codemirror_mode": {
    "name": "ipython",
    "version": 3
   },
   "file_extension": ".py",
   "mimetype": "text/x-python",
   "name": "python",
   "nbconvert_exporter": "python",
   "pygments_lexer": "ipython3",
   "version": "3.6.5"
  }
 },
 "nbformat": 4,
 "nbformat_minor": 2
}
